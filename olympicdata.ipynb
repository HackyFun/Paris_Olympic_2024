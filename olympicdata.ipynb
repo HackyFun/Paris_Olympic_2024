{
  "cells": [
    {
      "cell_type": "markdown",
      "metadata": {
        "colab_type": "text",
        "id": "view-in-github"
      },
      "source": [
        "<a href=\"https://colab.research.google.com/github/silkysaturn/Paris_Olympic_2024/blob/main/olympicdata.ipynb\" target=\"_parent\"><img src=\"https://colab.research.google.com/assets/colab-badge.svg\" alt=\"Open In Colab\"/></a>"
      ]
    },
    {
      "cell_type": "code",
      "execution_count": null,
      "metadata": {
        "colab": {
          "base_uri": "https://localhost:8080/"
        },
        "id": "pC3fEare6fMI",
        "outputId": "d4708a02-7f12-425b-ce2b-e38924a04491"
      },
      "outputs": [],
      "source": [
        "!pip install colabcode\n",
        "!pip install kaggle\n",
        "!pip install matplotlib\n",
        "!pip install jupyter"
      ]
    },
    {
      "cell_type": "code",
      "execution_count": null,
      "metadata": {},
      "outputs": [],
      "source": [
        "\n"
      ]
    },
    {
      "cell_type": "code",
      "execution_count": null,
      "metadata": {
        "colab": {
          "base_uri": "https://localhost:8080/"
        },
        "id": "cQTHOmTN6jAg",
        "outputId": "a545176a-f92d-4f3b-a784-c5e8b197e61a"
      },
      "outputs": [],
      "source": []
    },
    {
      "cell_type": "code",
      "execution_count": null,
      "metadata": {
        "id": "1LbRV2_s6lcW"
      },
      "outputs": [],
      "source": [
        "import os\n",
        "os.environ['KAGGLE_CONFIG_DIR'] = '/content/drive/MyDrive/kaggle'\n"
      ]
    },
    {
      "cell_type": "code",
      "execution_count": null,
      "metadata": {
        "colab": {
          "base_uri": "https://localhost:8080/"
        },
        "id": "7Rj2H-uP6xal",
        "outputId": "119b6d36-4518-464f-f466-e3aae2900b42"
      },
      "outputs": [],
      "source": [
        "\n",
        "!kaggle datasets download -d berkayalan/2021-olympics-medals-in-tokyo\n",
        "!kaggle datasets download -d stefanzivanov/olympic-games-2021-medals\n"
      ]
    },
    {
      "cell_type": "code",
      "execution_count": null,
      "metadata": {
        "id": "nrfUnxmh69JD"
      },
      "outputs": [],
      "source": [
        "import zipfile\n",
        "file_path = '/content/drive/MyDrive/kaggle/2021-olympics-medals-in-tokyo.zip'\n"
      ]
    },
    {
      "cell_type": "code",
      "execution_count": null,
      "metadata": {
        "id": "BN5xd7bi9Mgc"
      },
      "outputs": [],
      "source": [
        "with zipfile.ZipFile(file_path, 'r') as zip_ref:\n",
        "    zip_ref.extractall('/content/drive/MyDrive/')"
      ]
    },
    {
      "cell_type": "code",
      "execution_count": null,
      "metadata": {
        "id": "oUA0DPgI9w0W"
      },
      "outputs": [],
      "source": [
        "import pandas as pd\n",
        "import numpy as np\n",
        "import plotly.express as px\n",
        "import matplotlib.pyplot as plt"
      ]
    },
    {
      "cell_type": "code",
      "execution_count": null,
      "metadata": {
        "colab": {
          "base_uri": "https://localhost:8080/",
          "height": 424
        },
        "id": "KZ8eiInI95Ho",
        "outputId": "44bedb8b-5fd5-47a7-94ff-5df7113c925a"
      },
      "outputs": [],
      "source": [
        "data1=pd.read_csv('/content/drive/MyDrive/kaggle/Tokyo Medals 2021.csv')\n",
        "#data\n",
        "data2=pd.read_csv('/content/drive/MyDrive/kaggle/Tokyo 2021 dataset v3.csv')\n",
        "#data2\n",
        "\n",
        "data=pd.merge(data1,data2)\n",
        "data\n"
      ]
    },
    {
      "cell_type": "code",
      "execution_count": null,
      "metadata": {
        "colab": {
          "base_uri": "https://localhost:8080/",
          "height": 424
        },
        "id": "X46OIq_TRjuh",
        "outputId": "6d3b4081-1ed5-48c4-fc39-7b32f6f7d7f7"
      },
      "outputs": [],
      "source": [
        "data=data.drop('NOCCode', axis=1)\n",
        "data"
      ]
    },
    {
      "cell_type": "code",
      "execution_count": null,
      "metadata": {
        "colab": {
          "base_uri": "https://localhost:8080/",
          "height": 424
        },
        "id": "qchCca3xS_JK",
        "outputId": "e9c0af4c-958a-4ea4-e4db-a34b7db7705e"
      },
      "outputs": [],
      "source": [
        "data=data[(data['Gold Medal'] > 0)]\n",
        "data"
      ]
    },
    {
      "cell_type": "code",
      "execution_count": null,
      "metadata": {
        "colab": {
          "base_uri": "https://localhost:8080/"
        },
        "id": "c1xb8UR9CoXj",
        "outputId": "12af57b2-8291-46d0-9861-bea250957a8f"
      },
      "outputs": [],
      "source": [
        "data.info()"
      ]
    },
    {
      "cell_type": "code",
      "execution_count": null,
      "metadata": {
        "colab": {
          "base_uri": "https://localhost:8080/",
          "height": 542
        },
        "id": "QfD1keTbU6Ht",
        "outputId": "b336e5b7-7f07-4f31-9779-f9f2e45eab4d"
      },
      "outputs": [],
      "source": [
        "fig = px.histogram(data, x='Country', y='Gold Medal')\n",
        "fig.show()"
      ]
    },
    {
      "cell_type": "code",
      "execution_count": null,
      "metadata": {
        "colab": {
          "base_uri": "https://localhost:8080/"
        },
        "id": "nmUe4acqsHva",
        "outputId": "524a5e02-277a-4454-895f-9d5bf79b085a"
      },
      "outputs": [],
      "source": [
        "!kaggle datasets download -d nitishsharma01/olympics-124-years-datasettill-2020\n"
      ]
    },
    {
      "cell_type": "code",
      "execution_count": null,
      "metadata": {
        "colab": {
          "base_uri": "https://localhost:8080/",
          "height": 424
        },
        "id": "iiRpqIeGwImb",
        "outputId": "8c756ed2-4002-49b1-df16-9b0bcbf721da"
      },
      "outputs": [],
      "source": [
        "summer = pd.read_csv('/content/drive/MyDrive/kaggle/Athletes_summer_games.csv')\n",
        "summer"
      ]
    },
    {
      "cell_type": "code",
      "execution_count": null,
      "metadata": {
        "colab": {
          "base_uri": "https://localhost:8080/",
          "height": 424
        },
        "id": "ThId0WqmwS2O",
        "outputId": "053d61d4-5aab-40e8-b14b-a2a45334576e"
      },
      "outputs": [],
      "source": [
        "summer = summer.drop('Unnamed: 0', axis=1)\n",
        "summer"
      ]
    },
    {
      "cell_type": "code",
      "execution_count": null,
      "metadata": {
        "colab": {
          "base_uri": "https://localhost:8080/",
          "height": 424
        },
        "id": "hzkzb0oiwZPh",
        "outputId": "00a4765c-d7a1-40a6-8e87-8f71938dff51"
      },
      "outputs": [],
      "source": [
        "summer = summer.dropna()\n",
        "summer"
      ]
    },
    {
      "cell_type": "code",
      "execution_count": null,
      "metadata": {
        "colab": {
          "base_uri": "https://localhost:8080/",
          "height": 424
        },
        "id": "bQlYQnbFwjq2",
        "outputId": "117668a7-fadb-485b-d014-fd8b36308fbb"
      },
      "outputs": [],
      "source": [
        "swimming = summer[summer['Sport'] == 'Swimming']\n",
        "swimming"
      ]
    },
    {
      "cell_type": "code",
      "execution_count": null,
      "metadata": {
        "colab": {
          "base_uri": "https://localhost:8080/"
        },
        "id": "mv8rBr9Vw306",
        "outputId": "cfd81c5c-65da-41de-c515-d1ca091c76c1"
      },
      "outputs": [],
      "source": [
        "swimmingCount = swimming[swimming[\"Medal\"] == \"Gold\"][\"Team\"].value_counts()\n",
        "swimmingCount\n"
      ]
    },
    {
      "cell_type": "code",
      "execution_count": null,
      "metadata": {
        "colab": {
          "base_uri": "https://localhost:8080/"
        },
        "id": "DN_Qu5UWx8HA",
        "outputId": "bb942bcf-4759-4186-8fe3-43eefa54d80b"
      },
      "outputs": [],
      "source": [
        "if len(swimmingCount) > 10:\n",
        "  swimmingCount = swimmingCount[:10]\n",
        "swimmingCount"
      ]
    },
    {
      "cell_type": "code",
      "execution_count": null,
      "metadata": {
        "colab": {
          "base_uri": "https://localhost:8080/",
          "height": 542
        },
        "id": "7xUU9Lk9yDlK",
        "outputId": "92c384b4-4d35-40e0-b2ce-e2ad80995f69"
      },
      "outputs": [],
      "source": [
        "fig2 = px.pie(swimmingCount, values=swimmingCount.values, names=swimmingCount.index)\n",
        "fig2.show()"
      ]
    },
    {
      "cell_type": "code",
      "execution_count": null,
      "metadata": {
        "colab": {
          "base_uri": "https://localhost:8080/",
          "height": 424
        },
        "id": "0MXxfFeQykgs",
        "outputId": "caf23416-8031-4ecb-95db-5a0c4bf66b39"
      },
      "outputs": [],
      "source": [
        "summer"
      ]
    },
    {
      "cell_type": "code",
      "execution_count": null,
      "metadata": {
        "colab": {
          "base_uri": "https://localhost:8080/",
          "height": 424
        },
        "id": "8dbX-YkKz-DV",
        "outputId": "33abe093-1b7b-4e7e-9ad0-9e3aac51f925"
      },
      "outputs": [],
      "source": [
        "basketball = summer[summer['Sport'] == 'Basketball']\n",
        "basketball"
      ]
    },
    {
      "cell_type": "code",
      "execution_count": null,
      "metadata": {
        "colab": {
          "base_uri": "https://localhost:8080/"
        },
        "id": "MBIeyUAM0Ec3",
        "outputId": "62a2b4f2-67fe-4819-e03b-d4f96d84a99d"
      },
      "outputs": [],
      "source": [
        "basketballCount = basketball[basketball[\"Medal\"] == \"Gold\"][\"Team\"].value_counts()\n",
        "basketballCount"
      ]
    },
    {
      "cell_type": "code",
      "execution_count": null,
      "metadata": {
        "colab": {
          "base_uri": "https://localhost:8080/",
          "height": 542
        },
        "id": "TMKveCnK0KCF",
        "outputId": "ae13705e-9c54-4edf-f728-a4027c6c8e43"
      },
      "outputs": [],
      "source": [
        "fig3 = px.pie(basketballCount, values=basketballCount.values, names=basketballCount.index)\n",
        "fig3.show()"
      ]
    },
    {
      "cell_type": "code",
      "execution_count": null,
      "metadata": {
        "colab": {
          "base_uri": "https://localhost:8080/",
          "height": 424
        },
        "id": "rlQoOVht0eI_",
        "outputId": "7ae4658e-9a7d-44a3-dbed-a6e6b21363da"
      },
      "outputs": [],
      "source": [
        "summer"
      ]
    },
    {
      "cell_type": "code",
      "execution_count": null,
      "metadata": {
        "colab": {
          "base_uri": "https://localhost:8080/",
          "height": 424
        },
        "id": "XFWFfXs90h6H",
        "outputId": "643cb55c-4fe7-4497-a904-4e0de5dccdcc"
      },
      "outputs": [],
      "source": [
        "gymnastics = summer[summer['Sport'] == 'Gymnastics']\n",
        "gymnastics"
      ]
    },
    {
      "cell_type": "code",
      "execution_count": null,
      "metadata": {
        "colab": {
          "base_uri": "https://localhost:8080/"
        },
        "id": "Or7VRlef0kyt",
        "outputId": "237e3fba-fba9-4100-b5f8-1dbedb84df42"
      },
      "outputs": [],
      "source": [
        "gymnasticsCOut = gymnastics[gymnastics[\"Medal\"] == \"Gold\"][\"Team\"].value_counts()\n",
        "gymnasticsCOut"
      ]
    },
    {
      "cell_type": "code",
      "execution_count": null,
      "metadata": {
        "colab": {
          "base_uri": "https://localhost:8080/"
        },
        "id": "0GjjHasA0osH",
        "outputId": "299eca55-01cc-4d9f-a2dc-d1a925daf529"
      },
      "outputs": [],
      "source": [
        "if len(gymnasticsCOut) > 10:\n",
        "  gymnasticsCOut = gymnasticsCOut[:10]\n",
        "gymnasticsCOut"
      ]
    },
    {
      "cell_type": "code",
      "execution_count": null,
      "metadata": {
        "colab": {
          "base_uri": "https://localhost:8080/",
          "height": 542
        },
        "id": "LqOpVSSE0qRG",
        "outputId": "9518bfe1-440f-4ede-9276-7e5439eeea9b"
      },
      "outputs": [],
      "source": [
        "fig4 = px.pie(gymnasticsCOut, values=gymnasticsCOut.values, names=gymnasticsCOut.index)\n",
        "fig4.show()"
      ]
    },
    {
      "cell_type": "code",
      "execution_count": null,
      "metadata": {
        "colab": {
          "base_uri": "https://localhost:8080/",
          "height": 424
        },
        "id": "r85hcHNP0y8H",
        "outputId": "44c11589-4c10-4d19-b716-f99ea59b2dd7"
      },
      "outputs": [],
      "source": [
        "summer"
      ]
    },
    {
      "cell_type": "code",
      "execution_count": null,
      "metadata": {
        "colab": {
          "base_uri": "https://localhost:8080/",
          "height": 424
        },
        "id": "sFWBJbex01Ta",
        "outputId": "aeb83918-f1b3-4dd0-ea92-2fa33a842794"
      },
      "outputs": [],
      "source": [
        "football = summer[summer['Sport'] == 'Football']\n",
        "football"
      ]
    },
    {
      "cell_type": "code",
      "execution_count": null,
      "metadata": {
        "colab": {
          "base_uri": "https://localhost:8080/"
        },
        "id": "kIVuUi_o1BQg",
        "outputId": "591146b7-38ba-4fc0-fef8-6f1d10a12a15"
      },
      "outputs": [],
      "source": [
        "footballCount = football[football[\"Medal\"] == \"Gold\"][\"Team\"].value_counts()\n",
        "footballCount"
      ]
    },
    {
      "cell_type": "markdown",
      "metadata": {
        "id": "x6MmqQFLz84V"
      },
      "source": []
    },
    {
      "cell_type": "code",
      "execution_count": null,
      "metadata": {
        "colab": {
          "base_uri": "https://localhost:8080/"
        },
        "id": "GYb0seoF1FDC",
        "outputId": "212149f2-edfb-4485-d8a0-a77db4b6b0eb"
      },
      "outputs": [],
      "source": [
        "if len(footballCount) > 10:\n",
        "  footballCount = footballCount[:10]\n",
        "footballCount"
      ]
    },
    {
      "cell_type": "code",
      "execution_count": null,
      "metadata": {
        "colab": {
          "base_uri": "https://localhost:8080/",
          "height": 542
        },
        "id": "CWZymWD51Jcj",
        "outputId": "4cc1f88d-95f0-442e-91fe-5a171c5dc937"
      },
      "outputs": [],
      "source": [
        "fig5 = px.pie(footballCount, values=footballCount.values, names=footballCount.index)\n",
        "fig5.show()"
      ]
    },
    {
      "cell_type": "code",
      "execution_count": null,
      "metadata": {
        "colab": {
          "base_uri": "https://localhost:8080/",
          "height": 424
        },
        "id": "NMaHDx3y1NCZ",
        "outputId": "9571d22f-d2c0-4b0b-d571-a713f48ca9d1"
      },
      "outputs": [],
      "source": [
        "summer"
      ]
    },
    {
      "cell_type": "code",
      "execution_count": null,
      "metadata": {
        "colab": {
          "base_uri": "https://localhost:8080/",
          "height": 424
        },
        "id": "hA8FqUiW1PDR",
        "outputId": "66499437-5d33-4808-f9eb-c52b9c09681a"
      },
      "outputs": [],
      "source": [
        "volleyball = summer[summer['Sport'] == 'Volleyball']\n",
        "volleyball"
      ]
    },
    {
      "cell_type": "code",
      "execution_count": null,
      "metadata": {
        "colab": {
          "base_uri": "https://localhost:8080/"
        },
        "id": "h0Gu2fx-1Q81",
        "outputId": "0c120e54-7006-4d82-f59b-d5629270df15"
      },
      "outputs": [],
      "source": [
        "volleyballCount = volleyball[volleyball[\"Medal\"] == \"Gold\"][\"Team\"].value_counts()\n",
        "volleyballCount"
      ]
    },
    {
      "cell_type": "code",
      "execution_count": null,
      "metadata": {
        "colab": {
          "base_uri": "https://localhost:8080/",
          "height": 542
        },
        "id": "6F0Py1s41S-m",
        "outputId": "37343c49-7374-44f6-e750-8d5a6ac1cddc"
      },
      "outputs": [],
      "source": [
        "fig6 = px.pie(volleyballCount, values=volleyballCount.values, names=volleyballCount.index)\n",
        "fig6.show()"
      ]
    }
  ],
  "metadata": {
    "colab": {
      "authorship_tag": "ABX9TyPLidTPrXok/5XjlXASrtJP",
      "include_colab_link": true,
      "provenance": []
    },
    "kernelspec": {
      "display_name": "Python 3",
      "name": "python3"
    },
    "language_info": {
      "codemirror_mode": {
        "name": "ipython",
        "version": 3
      },
      "file_extension": ".py",
      "mimetype": "text/x-python",
      "name": "python",
      "nbconvert_exporter": "python",
      "pygments_lexer": "ipython3",
      "version": "3.12.1"
    }
  },
  "nbformat": 4,
  "nbformat_minor": 0
}
